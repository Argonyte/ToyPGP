{
  "nbformat": 4,
  "nbformat_minor": 0,
  "metadata": {
    "colab": {
      "provenance": []
    },
    "kernelspec": {
      "name": "python3",
      "display_name": "Python 3"
    },
    "language_info": {
      "name": "python"
    }
  },
  "cells": [
    {
      "cell_type": "markdown",
      "source": [
        "# Toy PGP\n",
        "PGP (Pretty Good Privacy) is a software protocol that enables people to securely exchange information by encrypting, decrypting, and digitally signing data. PGP combines multiple cryptographic methods:\n",
        "\n",
        "1.   Public-key cryptography: Each user has a public key (shared) and a private key (kept secret). Messages encrypted with the public key can only be decrypted with the private key, ensuring only the intended recipient can read the message\n",
        "2.   Symmetric-key cryptography: Once a shared secret (session key) is established, symmetric encryption is used for fast data encryption and decryption.\n",
        "3.   Hashing and digital signatures: PGP can create a hash of a message and sign it with the sender’s private key. This allows the recipient to verify the authenticity and integrity of the message using the public key.\n",
        "    \n",
        "PGP is widely used to secure email and file communications against unauthorized access and tampering. The protocol follows the OpenPGP standard (RFC 4880), and is interoperable with tools like GnuPG (Source: Fortinet)\n",
        "\n",
        "---\n",
        "\n",
        "For this project, we were asked to simulate a simplified PGP workflow using only basic algorithms:\n",
        "1.   Send: encode (“hash”) + transpose + create a verification checksum\n",
        "2.   Verify: recompute checksum and return one of three outcomes\n",
        "3.   Decrypt: reverse transpose + reverse encoding to read plaintext\n",
        "There are three outcomes that are shown in verification of a checksum:\n",
        "\n",
        "\n",
        "*   Valid — checksum matches and key is trusted\n",
        "*   Corrupted — checksum mismatch\n",
        "*   Unknown sender — key not in trusted list\n",
        "\n",
        "\n",
        "> CHECKSUM: A value calculated from a set of data used to verify its integrity. It plays a critical role in identifying errors during data transmission or storage, ensuring that the received data matches the original.\n",
        "\n",
        "\n"
      ],
      "metadata": {
        "id": "7Nxa9WELlxVa"
      }
    },
    {
      "cell_type": "markdown",
      "source": [
        "# SENDER A (SCRIPT 1)"
      ],
      "metadata": {
        "id": "ZofoopCI1KMp"
      }
    },
    {
      "cell_type": "code",
      "source": [
        "private_key_A = 3\n",
        "hash_transpose_step = 7\n",
        "public_key_A = 34567\n",
        "MOD = 100000\n",
        "\n",
        "#This section allows Sender A to choose between two algorithmic flows.\n",
        "print(\"Choose what to execute (Sending Message or Decrypt Message): \")\n",
        "print(\"1. Send Message\")\n",
        "print(\"2. Decrypt Message\")\n",
        "choice = input(\"Enter your choice (1/2): \")\n",
        "\n",
        "# loop logic for the choices\n",
        "if choice == '1':\n",
        "    message = input(\"Enter message to send: \")\n",
        "\n",
        "#hash logic for option 1\n",
        "    hashed_message = \"\"\n",
        "    for char in message:\n",
        "        hashed_code = (ord(char) + private_key_A) % 256   # ord(char) → converts each character into its ASCII number.\n",
        "        hashed_message += chr(hashed_code)                # Add the private key (+3 in this case).\n",
        "                                                          # % 256 ensures values stay between 0 and 255.\n",
        "                                                          # chr() converts the shifted value back into a character.\n",
        "\n",
        "    # Moves the first hash_transpose_step (7) characters to the end.\n",
        "    transposed = hashed_message[hash_transpose_step:] + hashed_message[:hash_transpose_step] # [AI] AI use case to understand slicing\n",
        "\n",
        "    checksum = 0        #initilaize the value in checksum variable to 0\n",
        "\n",
        "    for char in transposed:                               # Loop through every character in the transposed message.\n",
        "        checksum = (checksum + ord(char)) % MOD           # Add their ASCII values together, using % MOD to wrap the total.\n",
        "    checksum = (checksum * public_key_A) % MOD            # Multiply by the sender’s public key to simulate a digital signature.\n",
        "\n",
        "    print(\"\\nCopy to Verifier or Sender (Verifier Script)\")\n",
        "    print(\"Hashed Message:\", transposed)\n",
        "    print(\"PGP Checksum:\", checksum)\n",
        "    print(\"Sender A Public Key: \", public_key_A)\n",
        "    print(\"Sender A Private Key: \", private_key_A)\n",
        "    print(\"Hash Transpose Step: \", hash_transpose_step)\n",
        "\n",
        "  #Reply decrypting from other sender\n",
        "elif choice == '2':\n",
        "\n",
        "  #This branch reverses the encryption process\n",
        "    transposed = input(\"Enter the transposed message: \")\n",
        "    private_key = int(input(\"Enter the Private Key of other sender: \"))\n",
        "    transpose_step = int(input(\"Enter the Hash Transpose Step from other sender: \"))\n",
        "\n",
        "    if transpose_step > 0:\n",
        "      decrypted_stage1 = transposed[-transpose_step:] + transposed[:-transpose_step]\n",
        "      #Reverse logic of transposition\n",
        "    else:\n",
        "      decrypted_stage1 = transposed\n",
        "\n",
        "    decoded_message = ''\n",
        "    for char in decrypted_stage1:\n",
        "        decoded_code = (ord(char) - private_key) % 256 # Subtract the private key from each ASCII value (the opposite of the encryption logic)\n",
        "                                                       # % 256 keeps the result valid even if subtraction goes below 0\n",
        "        decoded_message += chr(decoded_code)\n",
        "\n",
        "    print(\"\\nDecrypted Message:\", decoded_message)\n",
        "\n",
        "else:\n",
        "    print(\"Invalid choice. Please enter 1 or 2.\")"
      ],
      "metadata": {
        "id": "pr-ngbTDVEeq",
        "colab": {
          "base_uri": "https://localhost:8080/"
        },
        "outputId": "dc2089fd-09ee-4af5-a8dd-17dcc84a0eca"
      },
      "execution_count": 5,
      "outputs": [
        {
          "output_type": "stream",
          "name": "stdout",
          "text": [
            "Choose what to execute (Sending Message or Decrypt Message): \n",
            "1. Send Message\n",
            "2. Decrypt Message\n",
            "Enter your choice (1/2): 1\n",
            "Enter message to send: Hello There, General Kenobi\n",
            "\n",
            "Copy to Verifier or Sender (Verifier Script)\n",
            "Hashed Message: khuh/#Jhqhudo#NhqrelKhoor#W\n",
            "PGP Checksum: 50809\n",
            "Sender A Public Key:  34567\n",
            "Sender A Private Key:  3\n",
            "Hash Transpose Step:  7\n"
          ]
        }
      ]
    },
    {
      "cell_type": "markdown",
      "source": [
        "# Verifier (SCRIPT 2)\n",
        "\n"
      ],
      "metadata": {
        "id": "OFGqM8qlSdQ9"
      }
    },
    {
      "cell_type": "code",
      "source": [
        "known_keys = [34567,56789] #public keys of both senders\n",
        "MOD = 100000 # MOD used for checksum calculations and protects program from overflows (checksum math within 0–99999)\n",
        "\n",
        "transposed = input(\"Enter transposed message: \") # the hashed message string from either sender A or B\n",
        "pgp_checksum = int(input(\"Enter PGP checksum: \")) # the numeric signature attached to the message\n",
        "sender_public_key = int(input(\"Enter sender's public key: \")) # The sender's public key\n",
        "\n",
        "computed = 0 # initialising the computed variable to start the decoding algorithm\n",
        "\n",
        "for char in transposed: #This will keep looping as long as there are undecoded characters\n",
        "  computed = (computed + ord(char)) % MOD # processes each character to calculate its ASCII value\n",
        "computed = (computed * sender_public_key) % MOD # this produces the computed checksum, identical to what the sender generated if the message wasn’t altered\n",
        "\n",
        "if sender_public_key not in known_keys:\n",
        "  result = \"Unknown Sender or Unverified Key\"\n",
        "elif computed == pgp_checksum:\n",
        "  result = \"Verified and Authentic PGP Checksum\"\n",
        "else:\n",
        "  result = \"Message Integrity compromised\"\n",
        "\n",
        "print(\"Verification Results: \", result)"
      ],
      "metadata": {
        "id": "gLNRXmANiH1I",
        "colab": {
          "base_uri": "https://localhost:8080/"
        },
        "outputId": "2d72784c-f466-48f6-9708-945b2b577513"
      },
      "execution_count": 6,
      "outputs": [
        {
          "output_type": "stream",
          "name": "stdout",
          "text": [
            "Enter transposed message: khuh/#Jhqhudo#NhqrelKhoor#W\n",
            "Enter PGP checksum: 50809\n",
            "Enter sender's public key: 34567\n",
            "Verification Results:  Verified and Authentic PGP Checksum\n"
          ]
        }
      ]
    },
    {
      "cell_type": "markdown",
      "source": [
        "# Sender B (Script 3)\n",
        "\n"
      ],
      "metadata": {
        "id": "UdaGGKYxUQtk"
      }
    },
    {
      "cell_type": "code",
      "source": [
        "# Everything about sender B is in reverse hence we have structures same in the script\n",
        "\n",
        "private_key_B = 5\n",
        "hash_transpose_step_B = 4\n",
        "public_key_B = 56789 #new fixed key\n",
        "MOD = 100000\n",
        "\n",
        "# Menu to decide on choice\n",
        "print(\"Choose what to execute (Sending Message or Decrypt Message): \")\n",
        "print(\"1. Decrypt Message\")\n",
        "print(\"2. Send Message\")\n",
        "choice = input(\"Enter your choice (1/2): \")\n",
        "\n",
        "if choice == '1':\n",
        "    transposed = input(\"Enter the hashed message: \")\n",
        "    private_key = int(input(\"Enter the Private Key of other sender: \"))\n",
        "    transpose_step = int(input(\"Enter the Hash Transpose Step from other sender: \"))\n",
        "\n",
        "    if transpose_step > 0:\n",
        "      decrypted_stage1 = transposed[-transpose_step:] + transposed[:-transpose_step]\n",
        "    else:\n",
        "      decrypted_stage1 = transposed\n",
        "\n",
        "    decoded_message = ''\n",
        "    for char in decrypted_stage1:\n",
        "        decoded_code = (ord(char) - private_key) % 256\n",
        "        decoded_message += chr(decoded_code)\n",
        "\n",
        "    print(\"\\nDecrypted Message:\", decoded_message)\n",
        "\n",
        "# cipher logic for option 2\n",
        "elif choice == '2':\n",
        "    message = input(\"Enter reply message to send: \")\n",
        "\n",
        "    hashed_message = \"\"\n",
        "    for char in message:\n",
        "        hashed_code = (ord(char) + private_key_B) % 256\n",
        "        hashed_message += chr(hashed_code)\n",
        "\n",
        "    transposed = hashed_message[hash_transpose_step_B:] + hashed_message[:hash_transpose_step_B]\n",
        "\n",
        "    checksum = 0\n",
        "    for char in transposed:\n",
        "        checksum = (checksum + ord(char)) % MOD\n",
        "    checksum = (checksum * public_key_B) % MOD\n",
        "\n",
        "    print(\"\\nCopy to Verifier or sender\")\n",
        "    print(\"Transposed Message:\", transposed)\n",
        "    print(\"PGP Checksum:\", checksum)\n",
        "    print(\"Sender A Public Key: \", public_key_B)\n",
        "    print(\"Sender A Private Key: \", private_key_B)\n",
        "    print(\"Hash Transpose Step: \", hash_transpose_step_B)\n",
        "\n",
        "else:\n",
        "    print(\"Invalid choice. Please enter 1 or 2.\")"
      ],
      "metadata": {
        "id": "QWt9ZfwJcuwb",
        "colab": {
          "base_uri": "https://localhost:8080/"
        },
        "outputId": "efe666b2-6c98-43d5-c092-0f177337fc9c"
      },
      "execution_count": 7,
      "outputs": [
        {
          "output_type": "stream",
          "name": "stdout",
          "text": [
            "Choose what to execute (Sending Message or Decrypt Message): \n",
            "1. Decrypt Message\n",
            "2. Send Message\n",
            "Enter your choice (1/2): 1\n",
            "Enter the hashed message: khuh/#Jhqhudo#NhqrelKhoor#W\n",
            "Enter the Private Key of other sender: 3\n",
            "Enter the Hash Transpose Step from other sender: 7\n",
            "\n",
            "Decrypted Message: Hello There, General Kenobi\n"
          ]
        }
      ]
    }
  ]
}